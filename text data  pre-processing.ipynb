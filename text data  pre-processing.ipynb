{
 "cells": [
  {
   "cell_type": "code",
   "execution_count": 1,
   "id": "a8d24c24",
   "metadata": {},
   "outputs": [],
   "source": [
    "import numpy as np\n",
    "import pandas as pd \n",
    "import regex as re"
   ]
  },
  {
   "cell_type": "code",
   "execution_count": 2,
   "id": "05a5fa8d",
   "metadata": {},
   "outputs": [],
   "source": [
    "doc0='''Peter Piper picked a peck of pickled peppers.\n",
    "A peck of pickled peppers Peter Piper picked.\n",
    "If Peter Piper picked a peck of pickled peppers,\n",
    "where’s the peck of pickled peppers Peter Piper picked?'''"
   ]
  },
  {
   "cell_type": "code",
   "execution_count": 3,
   "id": "3204031b",
   "metadata": {},
   "outputs": [],
   "source": [
    "doc1='''If you must cross a course cross cow across a crowded cow crossing,\n",
    "cross the cross coarse cow across the crowded cow crossing carefully.'''"
   ]
  },
  {
   "cell_type": "code",
   "execution_count": 4,
   "id": "485b7705",
   "metadata": {},
   "outputs": [],
   "source": [
    "doc2=''' If one doctor doctors another doctor, \n",
    "then which doctor is doctoring the doctored doctor?\n",
    "Does the doctor who doctors the doctor, \n",
    "doctor the doctor the way the doctor is doctoring doctors?'''"
   ]
  },
  {
   "cell_type": "code",
   "execution_count": 5,
   "id": "e761cce7",
   "metadata": {},
   "outputs": [],
   "source": [
    "doc3='''To sit in solemn silence in a dull, dark dock\n",
    "in a pestilential prison with a life-long lock,\n",
    "awaiting the sensation of a short, sharp shock\n",
    "from a cheap and chippy chopper with a big, black block.'''"
   ]
  },
  {
   "cell_type": "code",
   "execution_count": 6,
   "id": "aa3ca8e1",
   "metadata": {},
   "outputs": [],
   "source": [
    "doc4='''Betty Botter bought a bit of butter.\n",
    "The butter Betty Botter bought was a bit bitter\n",
    "And made her batter bitter.\n",
    "But a bit of better butter makes better batter.\n",
    "So Betty Botter bought a bit of better butter\n",
    "Making Betty Botter’s bitter batter better'''"
   ]
  },
  {
   "cell_type": "code",
   "execution_count": 7,
   "id": "63260ec3",
   "metadata": {},
   "outputs": [],
   "source": [
    "doc5='''Through three cheese trees three free fleas flew.\n",
    "While these fleas flew, freezy breeze blew.\n",
    "Freezy breeze made these three trees freeze.\n",
    "Freezy trees made these trees’ cheese freeze.\n",
    "That’s what made these three free fleas sneeze.'''"
   ]
  },
  {
   "cell_type": "code",
   "execution_count": 8,
   "id": "ae18fbb7",
   "metadata": {},
   "outputs": [
    {
     "data": {
      "text/html": [
       "<div>\n",
       "<style scoped>\n",
       "    .dataframe tbody tr th:only-of-type {\n",
       "        vertical-align: middle;\n",
       "    }\n",
       "\n",
       "    .dataframe tbody tr th {\n",
       "        vertical-align: top;\n",
       "    }\n",
       "\n",
       "    .dataframe thead th {\n",
       "        text-align: right;\n",
       "    }\n",
       "</style>\n",
       "<table border=\"1\" class=\"dataframe\">\n",
       "  <thead>\n",
       "    <tr style=\"text-align: right;\">\n",
       "      <th></th>\n",
       "      <th>docs</th>\n",
       "    </tr>\n",
       "  </thead>\n",
       "  <tbody>\n",
       "    <tr>\n",
       "      <th>0</th>\n",
       "      <td>Peter Piper picked a peck of pickled peppers.\\...</td>\n",
       "    </tr>\n",
       "    <tr>\n",
       "      <th>1</th>\n",
       "      <td>If you must cross a course cross cow across a ...</td>\n",
       "    </tr>\n",
       "    <tr>\n",
       "      <th>2</th>\n",
       "      <td>If one doctor doctors another doctor, \\nthen ...</td>\n",
       "    </tr>\n",
       "    <tr>\n",
       "      <th>3</th>\n",
       "      <td>To sit in solemn silence in a dull, dark dock\\...</td>\n",
       "    </tr>\n",
       "    <tr>\n",
       "      <th>4</th>\n",
       "      <td>Betty Botter bought a bit of butter.\\nThe butt...</td>\n",
       "    </tr>\n",
       "    <tr>\n",
       "      <th>5</th>\n",
       "      <td>Through three cheese trees three free fleas fl...</td>\n",
       "    </tr>\n",
       "  </tbody>\n",
       "</table>\n",
       "</div>"
      ],
      "text/plain": [
       "                                                docs\n",
       "0  Peter Piper picked a peck of pickled peppers.\\...\n",
       "1  If you must cross a course cross cow across a ...\n",
       "2   If one doctor doctors another doctor, \\nthen ...\n",
       "3  To sit in solemn silence in a dull, dark dock\\...\n",
       "4  Betty Botter bought a bit of butter.\\nThe butt...\n",
       "5  Through three cheese trees three free fleas fl..."
      ]
     },
     "execution_count": 8,
     "metadata": {},
     "output_type": "execute_result"
    }
   ],
   "source": [
    "dfori=pd.DataFrame({'docs':[doc0,doc1,doc2,doc3,doc4,doc5]})\n",
    "dfori"
   ]
  },
  {
   "cell_type": "code",
   "execution_count": 9,
   "id": "fcc02b2c",
   "metadata": {},
   "outputs": [],
   "source": [
    "df=dfori.copy()\n"
   ]
  },
  {
   "cell_type": "markdown",
   "id": "240a0af3",
   "metadata": {},
   "source": [
    "## converting into uniform case"
   ]
  },
  {
   "cell_type": "code",
   "execution_count": 10,
   "id": "dba882e5",
   "metadata": {},
   "outputs": [],
   "source": [
    "## df['docs'].str.lower()"
   ]
  },
  {
   "cell_type": "code",
   "execution_count": 11,
   "id": "c8586e53",
   "metadata": {},
   "outputs": [],
   "source": [
    "def lowerCaseConversion(x):\n",
    "    return x.str.lower()"
   ]
  },
  {
   "cell_type": "code",
   "execution_count": 12,
   "id": "73a129a3",
   "metadata": {},
   "outputs": [
    {
     "data": {
      "text/html": [
       "<div>\n",
       "<style scoped>\n",
       "    .dataframe tbody tr th:only-of-type {\n",
       "        vertical-align: middle;\n",
       "    }\n",
       "\n",
       "    .dataframe tbody tr th {\n",
       "        vertical-align: top;\n",
       "    }\n",
       "\n",
       "    .dataframe thead th {\n",
       "        text-align: right;\n",
       "    }\n",
       "</style>\n",
       "<table border=\"1\" class=\"dataframe\">\n",
       "  <thead>\n",
       "    <tr style=\"text-align: right;\">\n",
       "      <th></th>\n",
       "      <th>docs</th>\n",
       "    </tr>\n",
       "  </thead>\n",
       "  <tbody>\n",
       "    <tr>\n",
       "      <th>0</th>\n",
       "      <td>peter piper picked a peck of pickled peppers.\\...</td>\n",
       "    </tr>\n",
       "    <tr>\n",
       "      <th>1</th>\n",
       "      <td>if you must cross a course cross cow across a ...</td>\n",
       "    </tr>\n",
       "    <tr>\n",
       "      <th>2</th>\n",
       "      <td>if one doctor doctors another doctor, \\nthen ...</td>\n",
       "    </tr>\n",
       "    <tr>\n",
       "      <th>3</th>\n",
       "      <td>to sit in solemn silence in a dull, dark dock\\...</td>\n",
       "    </tr>\n",
       "    <tr>\n",
       "      <th>4</th>\n",
       "      <td>betty botter bought a bit of butter.\\nthe butt...</td>\n",
       "    </tr>\n",
       "    <tr>\n",
       "      <th>5</th>\n",
       "      <td>through three cheese trees three free fleas fl...</td>\n",
       "    </tr>\n",
       "  </tbody>\n",
       "</table>\n",
       "</div>"
      ],
      "text/plain": [
       "                                                docs\n",
       "0  peter piper picked a peck of pickled peppers.\\...\n",
       "1  if you must cross a course cross cow across a ...\n",
       "2   if one doctor doctors another doctor, \\nthen ...\n",
       "3  to sit in solemn silence in a dull, dark dock\\...\n",
       "4  betty botter bought a bit of butter.\\nthe butt...\n",
       "5  through three cheese trees three free fleas fl..."
      ]
     },
     "execution_count": 12,
     "metadata": {},
     "output_type": "execute_result"
    }
   ],
   "source": [
    "df['docs']=lowerCaseConversion(df['docs'])\n",
    "df"
   ]
  },
  {
   "cell_type": "markdown",
   "id": "01f30948",
   "metadata": {},
   "source": [
    "## handling html tags"
   ]
  },
  {
   "cell_type": "code",
   "execution_count": 13,
   "id": "e16f3d6f",
   "metadata": {},
   "outputs": [],
   "source": [
    "x='<b>Hello</b>'\n",
    "re.sub(r'<.*?>','',x)\n",
    "\n",
    "def removeHtmlTags(x):\n",
    "    return re.sub(r'<.*?>','',x)"
   ]
  },
  {
   "cell_type": "code",
   "execution_count": 14,
   "id": "6a772dd6",
   "metadata": {},
   "outputs": [
    {
     "data": {
      "text/html": [
       "<div>\n",
       "<style scoped>\n",
       "    .dataframe tbody tr th:only-of-type {\n",
       "        vertical-align: middle;\n",
       "    }\n",
       "\n",
       "    .dataframe tbody tr th {\n",
       "        vertical-align: top;\n",
       "    }\n",
       "\n",
       "    .dataframe thead th {\n",
       "        text-align: right;\n",
       "    }\n",
       "</style>\n",
       "<table border=\"1\" class=\"dataframe\">\n",
       "  <thead>\n",
       "    <tr style=\"text-align: right;\">\n",
       "      <th></th>\n",
       "      <th>docs</th>\n",
       "    </tr>\n",
       "  </thead>\n",
       "  <tbody>\n",
       "    <tr>\n",
       "      <th>0</th>\n",
       "      <td>peter piper picked a peck of pickled peppers.\\...</td>\n",
       "    </tr>\n",
       "    <tr>\n",
       "      <th>1</th>\n",
       "      <td>if you must cross a course cross cow across a ...</td>\n",
       "    </tr>\n",
       "    <tr>\n",
       "      <th>2</th>\n",
       "      <td>if one doctor doctors another doctor, \\nthen ...</td>\n",
       "    </tr>\n",
       "    <tr>\n",
       "      <th>3</th>\n",
       "      <td>to sit in solemn silence in a dull, dark dock\\...</td>\n",
       "    </tr>\n",
       "    <tr>\n",
       "      <th>4</th>\n",
       "      <td>betty botter bought a bit of butter.\\nthe butt...</td>\n",
       "    </tr>\n",
       "    <tr>\n",
       "      <th>5</th>\n",
       "      <td>through three cheese trees three free fleas fl...</td>\n",
       "    </tr>\n",
       "  </tbody>\n",
       "</table>\n",
       "</div>"
      ],
      "text/plain": [
       "                                                docs\n",
       "0  peter piper picked a peck of pickled peppers.\\...\n",
       "1  if you must cross a course cross cow across a ...\n",
       "2   if one doctor doctors another doctor, \\nthen ...\n",
       "3  to sit in solemn silence in a dull, dark dock\\...\n",
       "4  betty botter bought a bit of butter.\\nthe butt...\n",
       "5  through three cheese trees three free fleas fl..."
      ]
     },
     "execution_count": 14,
     "metadata": {},
     "output_type": "execute_result"
    }
   ],
   "source": [
    "df['docs']=df['docs'].apply(removeHtmlTags)\n",
    "df"
   ]
  },
  {
   "cell_type": "markdown",
   "id": "b9c31a1a",
   "metadata": {},
   "source": [
    "## removing urls"
   ]
  },
  {
   "cell_type": "code",
   "execution_count": 15,
   "id": "02bf45a8",
   "metadata": {},
   "outputs": [
    {
     "data": {
      "text/plain": [
       "0    peter piper picked a peck of pickled peppers.\\...\n",
       "1    if you must cross a course cross cow across a ...\n",
       "2     if one doctor doctors another doctor, \\nthen ...\n",
       "3    to sit in solemn silence in a dull, dark dock\\...\n",
       "4    betty botter bought a bit of butter.\\nthe butt...\n",
       "5    through three cheese trees three free fleas fl...\n",
       "Name: docs, dtype: object"
      ]
     },
     "execution_count": 15,
     "metadata": {},
     "output_type": "execute_result"
    }
   ],
   "source": [
    "re.sub(r'https?://\\s+|www\\.s\\+','',x)\n",
    "\n",
    "\n",
    "def removeurls(x):\n",
    "    return re.sub(r'https?://\\s+|www\\.s\\+','',x)\n",
    "\n",
    "df['docs']=df['docs'].apply(removeurls)\n",
    "df['docs']"
   ]
  },
  {
   "cell_type": "code",
   "execution_count": 16,
   "id": "5905ab12",
   "metadata": {},
   "outputs": [],
   "source": [
    "## handling new  line characters"
   ]
  },
  {
   "cell_type": "code",
   "execution_count": 17,
   "id": "fae5e720",
   "metadata": {},
   "outputs": [
    {
     "data": {
      "text/plain": [
       "'peter piper picked a peck of pickled peppers.a peck of pickled peppers peter piper picked.if peter piper picked a peck of pickled peppers,where’s the peck of pickled peppers peter piper picked?'"
      ]
     },
     "execution_count": 17,
     "metadata": {},
     "output_type": "execute_result"
    }
   ],
   "source": [
    "def handlingNewlineChar(x):\n",
    "    return re.sub(r'\\n','',x)\n",
    "\n",
    "df['docs']=df['docs'].apply(handlingNewlineChar)\n",
    "df['docs'][0]"
   ]
  },
  {
   "cell_type": "code",
   "execution_count": 18,
   "id": "e6b80b0c",
   "metadata": {},
   "outputs": [],
   "source": [
    "## removing spechar and numbers"
   ]
  },
  {
   "cell_type": "code",
   "execution_count": 19,
   "id": "e33b32eb",
   "metadata": {},
   "outputs": [],
   "source": [
    "def removingspecharAndNumbers(x):\n",
    "    return re.sub(r'[^a-zA-Z]',' ',x)"
   ]
  },
  {
   "cell_type": "code",
   "execution_count": 20,
   "id": "913a139f",
   "metadata": {},
   "outputs": [
    {
     "data": {
      "text/plain": [
       "0    peter piper picked a peck of pickled peppers a...\n",
       "1    if you must cross a course cross cow across a ...\n",
       "2     if one doctor doctors another doctor  then wh...\n",
       "3    to sit in solemn silence in a dull  dark docki...\n",
       "4    betty botter bought a bit of butter the butter...\n",
       "5    through three cheese trees three free fleas fl...\n",
       "Name: docs, dtype: object"
      ]
     },
     "execution_count": 20,
     "metadata": {},
     "output_type": "execute_result"
    }
   ],
   "source": [
    "df['docs']=df['docs'].apply(removingspecharAndNumbers)\n",
    "df['docs']"
   ]
  },
  {
   "cell_type": "code",
   "execution_count": 21,
   "id": "b8b989dc",
   "metadata": {},
   "outputs": [
    {
     "name": "stderr",
     "output_type": "stream",
     "text": [
      "[nltk_data] Downloading package stopwords to\n",
      "[nltk_data]     C:\\Users\\alasy\\AppData\\Roaming\\nltk_data...\n",
      "[nltk_data]   Package stopwords is already up-to-date!\n"
     ]
    }
   ],
   "source": [
    "## removing stopwords\n",
    "\n",
    "import nltk\n",
    "nltk.download('stopwords')\n",
    "from nltk.corpus import stopwords "
   ]
  },
  {
   "cell_type": "code",
   "execution_count": 22,
   "id": "de3c64c5",
   "metadata": {},
   "outputs": [],
   "source": [
    "def removeStopwords(x):\n",
    "    z=[]\n",
    "    for ele in x.split():\n",
    "        if ele not in stopwords.words('english'):\n",
    "            z.append(ele)\n",
    "    return ' '.join(z)"
   ]
  },
  {
   "cell_type": "code",
   "execution_count": 23,
   "id": "dadbea01",
   "metadata": {},
   "outputs": [
    {
     "data": {
      "text/plain": [
       "0    peter piper picked peck pickled peppers peck p...\n",
       "1    must cross course cross cow across crowded cow...\n",
       "2    one doctor doctors another doctor doctor docto...\n",
       "3    sit solemn silence dull dark dockin pestilenti...\n",
       "4    betty botter bought bit butter butter betty bo...\n",
       "5    three cheese trees three free fleas flew fleas...\n",
       "Name: docs, dtype: object"
      ]
     },
     "execution_count": 23,
     "metadata": {},
     "output_type": "execute_result"
    }
   ],
   "source": [
    "df['docs']=df['docs'].apply(removeStopwords)\n",
    "df['docs']"
   ]
  },
  {
   "cell_type": "code",
   "execution_count": 24,
   "id": "9bd0ad2c",
   "metadata": {},
   "outputs": [],
   "source": [
    "### stemming"
   ]
  },
  {
   "cell_type": "code",
   "execution_count": 25,
   "id": "388d8617",
   "metadata": {},
   "outputs": [],
   "source": [
    "from nltk.stem import SnowballStemmer\n",
    "stemmer=SnowballStemmer('english')"
   ]
  },
  {
   "cell_type": "code",
   "execution_count": 26,
   "id": "91b609c4",
   "metadata": {},
   "outputs": [
    {
     "data": {
      "text/plain": [
       "'walk'"
      ]
     },
     "execution_count": 26,
     "metadata": {},
     "output_type": "execute_result"
    }
   ],
   "source": [
    "stemmer.stem('walking')"
   ]
  },
  {
   "cell_type": "code",
   "execution_count": 27,
   "id": "ed5c159c",
   "metadata": {},
   "outputs": [],
   "source": [
    "### lemitization"
   ]
  },
  {
   "cell_type": "code",
   "execution_count": 28,
   "id": "a5eff4b5",
   "metadata": {},
   "outputs": [
    {
     "name": "stderr",
     "output_type": "stream",
     "text": [
      "[nltk_data] Downloading package wordnet to\n",
      "[nltk_data]     C:\\Users\\alasy\\AppData\\Roaming\\nltk_data...\n",
      "[nltk_data]   Package wordnet is already up-to-date!\n",
      "[nltk_data] Downloading package omw-1.4 to\n",
      "[nltk_data]     C:\\Users\\alasy\\AppData\\Roaming\\nltk_data...\n",
      "[nltk_data]   Package omw-1.4 is already up-to-date!\n"
     ]
    },
    {
     "data": {
      "text/plain": [
       "True"
      ]
     },
     "execution_count": 28,
     "metadata": {},
     "output_type": "execute_result"
    }
   ],
   "source": [
    "from nltk.stem import WordNetLemmatizer\n",
    "nltk.download('wordnet')\n",
    "nltk.download('omw-1.4')"
   ]
  },
  {
   "cell_type": "code",
   "execution_count": 29,
   "id": "7ec702fd",
   "metadata": {},
   "outputs": [
    {
     "data": {
      "text/plain": [
       "'jogging'"
      ]
     },
     "execution_count": 29,
     "metadata": {},
     "output_type": "execute_result"
    }
   ],
   "source": [
    "lem=WordNetLemmatizer()\n",
    "lem.lemmatize('jogging')"
   ]
  },
  {
   "cell_type": "code",
   "execution_count": 30,
   "id": "03a44b3d",
   "metadata": {},
   "outputs": [],
   "source": [
    "def stem(x):\n",
    "    s=[]\n",
    "    for ele in x.split():\n",
    "        s.append(stemmer.stem(ele))\n",
    "    return ' '.join(s)"
   ]
  },
  {
   "cell_type": "code",
   "execution_count": 31,
   "id": "351cca7c",
   "metadata": {},
   "outputs": [],
   "source": [
    "def lemmatizer(x):\n",
    "    s=[]\n",
    "    for ele in x.split():\n",
    "        s.append(lem.lemmatize(ele))\n",
    "    return ' '.join(s)"
   ]
  },
  {
   "cell_type": "code",
   "execution_count": 32,
   "id": "68df0565",
   "metadata": {},
   "outputs": [
    {
     "data": {
      "text/html": [
       "<div>\n",
       "<style scoped>\n",
       "    .dataframe tbody tr th:only-of-type {\n",
       "        vertical-align: middle;\n",
       "    }\n",
       "\n",
       "    .dataframe tbody tr th {\n",
       "        vertical-align: top;\n",
       "    }\n",
       "\n",
       "    .dataframe thead th {\n",
       "        text-align: right;\n",
       "    }\n",
       "</style>\n",
       "<table border=\"1\" class=\"dataframe\">\n",
       "  <thead>\n",
       "    <tr style=\"text-align: right;\">\n",
       "      <th></th>\n",
       "      <th>docs</th>\n",
       "      <th>stemdocs</th>\n",
       "    </tr>\n",
       "  </thead>\n",
       "  <tbody>\n",
       "    <tr>\n",
       "      <th>0</th>\n",
       "      <td>peter piper picked peck pickled peppers peck p...</td>\n",
       "      <td>peter piper pick peck pickl pepper peck pickl ...</td>\n",
       "    </tr>\n",
       "    <tr>\n",
       "      <th>1</th>\n",
       "      <td>must cross course cross cow across crowded cow...</td>\n",
       "      <td>must cross cours cross cow across crowd cow cr...</td>\n",
       "    </tr>\n",
       "    <tr>\n",
       "      <th>2</th>\n",
       "      <td>one doctor doctors another doctor doctor docto...</td>\n",
       "      <td>one doctor doctor anoth doctor doctor doctor d...</td>\n",
       "    </tr>\n",
       "    <tr>\n",
       "      <th>3</th>\n",
       "      <td>sit solemn silence dull dark dockin pestilenti...</td>\n",
       "      <td>sit solemn silenc dull dark dockin pestilenti ...</td>\n",
       "    </tr>\n",
       "    <tr>\n",
       "      <th>4</th>\n",
       "      <td>betty botter bought bit butter butter betty bo...</td>\n",
       "      <td>betti botter bought bit butter butter betti bo...</td>\n",
       "    </tr>\n",
       "    <tr>\n",
       "      <th>5</th>\n",
       "      <td>three cheese trees three free fleas flew fleas...</td>\n",
       "      <td>three chees tree three free flea flew flea fle...</td>\n",
       "    </tr>\n",
       "  </tbody>\n",
       "</table>\n",
       "</div>"
      ],
      "text/plain": [
       "                                                docs  \\\n",
       "0  peter piper picked peck pickled peppers peck p...   \n",
       "1  must cross course cross cow across crowded cow...   \n",
       "2  one doctor doctors another doctor doctor docto...   \n",
       "3  sit solemn silence dull dark dockin pestilenti...   \n",
       "4  betty botter bought bit butter butter betty bo...   \n",
       "5  three cheese trees three free fleas flew fleas...   \n",
       "\n",
       "                                            stemdocs  \n",
       "0  peter piper pick peck pickl pepper peck pickl ...  \n",
       "1  must cross cours cross cow across crowd cow cr...  \n",
       "2  one doctor doctor anoth doctor doctor doctor d...  \n",
       "3  sit solemn silenc dull dark dockin pestilenti ...  \n",
       "4  betti botter bought bit butter butter betti bo...  \n",
       "5  three chees tree three free flea flew flea fle...  "
      ]
     },
     "execution_count": 32,
     "metadata": {},
     "output_type": "execute_result"
    }
   ],
   "source": [
    "df['stemdocs']=df['docs'].apply(stem)\n",
    "df"
   ]
  },
  {
   "cell_type": "code",
   "execution_count": 33,
   "id": "05824d9b",
   "metadata": {},
   "outputs": [
    {
     "data": {
      "text/html": [
       "<div>\n",
       "<style scoped>\n",
       "    .dataframe tbody tr th:only-of-type {\n",
       "        vertical-align: middle;\n",
       "    }\n",
       "\n",
       "    .dataframe tbody tr th {\n",
       "        vertical-align: top;\n",
       "    }\n",
       "\n",
       "    .dataframe thead th {\n",
       "        text-align: right;\n",
       "    }\n",
       "</style>\n",
       "<table border=\"1\" class=\"dataframe\">\n",
       "  <thead>\n",
       "    <tr style=\"text-align: right;\">\n",
       "      <th></th>\n",
       "      <th>docs</th>\n",
       "      <th>stemdocs</th>\n",
       "      <th>lemdocs</th>\n",
       "    </tr>\n",
       "  </thead>\n",
       "  <tbody>\n",
       "    <tr>\n",
       "      <th>0</th>\n",
       "      <td>peter piper picked peck pickled peppers peck p...</td>\n",
       "      <td>peter piper pick peck pickl pepper peck pickl ...</td>\n",
       "      <td>peter piper picked peck pickled pepper peck pi...</td>\n",
       "    </tr>\n",
       "    <tr>\n",
       "      <th>1</th>\n",
       "      <td>must cross course cross cow across crowded cow...</td>\n",
       "      <td>must cross cours cross cow across crowd cow cr...</td>\n",
       "      <td>must cross course cross cow across crowded cow...</td>\n",
       "    </tr>\n",
       "    <tr>\n",
       "      <th>2</th>\n",
       "      <td>one doctor doctors another doctor doctor docto...</td>\n",
       "      <td>one doctor doctor anoth doctor doctor doctor d...</td>\n",
       "      <td>one doctor doctor another doctor doctor doctor...</td>\n",
       "    </tr>\n",
       "    <tr>\n",
       "      <th>3</th>\n",
       "      <td>sit solemn silence dull dark dockin pestilenti...</td>\n",
       "      <td>sit solemn silenc dull dark dockin pestilenti ...</td>\n",
       "      <td>sit solemn silence dull dark dockin pestilenti...</td>\n",
       "    </tr>\n",
       "    <tr>\n",
       "      <th>4</th>\n",
       "      <td>betty botter bought bit butter butter betty bo...</td>\n",
       "      <td>betti botter bought bit butter butter betti bo...</td>\n",
       "      <td>betty botter bought bit butter butter betty bo...</td>\n",
       "    </tr>\n",
       "    <tr>\n",
       "      <th>5</th>\n",
       "      <td>three cheese trees three free fleas flew fleas...</td>\n",
       "      <td>three chees tree three free flea flew flea fle...</td>\n",
       "      <td>three cheese tree three free flea flew flea fl...</td>\n",
       "    </tr>\n",
       "  </tbody>\n",
       "</table>\n",
       "</div>"
      ],
      "text/plain": [
       "                                                docs  \\\n",
       "0  peter piper picked peck pickled peppers peck p...   \n",
       "1  must cross course cross cow across crowded cow...   \n",
       "2  one doctor doctors another doctor doctor docto...   \n",
       "3  sit solemn silence dull dark dockin pestilenti...   \n",
       "4  betty botter bought bit butter butter betty bo...   \n",
       "5  three cheese trees three free fleas flew fleas...   \n",
       "\n",
       "                                            stemdocs  \\\n",
       "0  peter piper pick peck pickl pepper peck pickl ...   \n",
       "1  must cross cours cross cow across crowd cow cr...   \n",
       "2  one doctor doctor anoth doctor doctor doctor d...   \n",
       "3  sit solemn silenc dull dark dockin pestilenti ...   \n",
       "4  betti botter bought bit butter butter betti bo...   \n",
       "5  three chees tree three free flea flew flea fle...   \n",
       "\n",
       "                                             lemdocs  \n",
       "0  peter piper picked peck pickled pepper peck pi...  \n",
       "1  must cross course cross cow across crowded cow...  \n",
       "2  one doctor doctor another doctor doctor doctor...  \n",
       "3  sit solemn silence dull dark dockin pestilenti...  \n",
       "4  betty botter bought bit butter butter betty bo...  \n",
       "5  three cheese tree three free flea flew flea fl...  "
      ]
     },
     "execution_count": 33,
     "metadata": {},
     "output_type": "execute_result"
    }
   ],
   "source": [
    "df['lemdocs']=df['docs'].apply(lemmatizer)\n",
    "df"
   ]
  },
  {
   "cell_type": "code",
   "execution_count": null,
   "id": "3d1dc0f6",
   "metadata": {},
   "outputs": [],
   "source": []
  }
 ],
 "metadata": {
  "kernelspec": {
   "display_name": "Python 3 (ipykernel)",
   "language": "python",
   "name": "python3"
  },
  "language_info": {
   "codemirror_mode": {
    "name": "ipython",
    "version": 3
   },
   "file_extension": ".py",
   "mimetype": "text/x-python",
   "name": "python",
   "nbconvert_exporter": "python",
   "pygments_lexer": "ipython3",
   "version": "3.9.13"
  }
 },
 "nbformat": 4,
 "nbformat_minor": 5
}
